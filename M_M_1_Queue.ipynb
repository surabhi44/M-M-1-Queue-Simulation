{
  "nbformat": 4,
  "nbformat_minor": 0,
  "metadata": {
    "colab": {
      "name": "M_M_1_Queue.ipynb",
      "provenance": []
    },
    "kernelspec": {
      "name": "python3",
      "display_name": "Python 3"
    }
  },
  "cells": [
    {
      "cell_type": "markdown",
      "metadata": {
        "id": "RWJA1K97Bzj7"
      },
      "source": [
        "#Simulation of M/M/1 Queue\r\n",
        "\r\n",
        "M in M/M/1 represents exponential (or memoryless or Markovian)\r\n",
        "\r\n",
        "We take an example of grocery store where customers come and purchase items.\r\n",
        "\r\n",
        "Arrival of customers before a time 't' follows a poisson distribution. This makes inter-arrival time (times between two consecutive arrivals) to follow exponential distribution.\r\n",
        "\r\n",
        "The first 'M' of M/M/1 represents inter-arrival time.\r\n",
        "\r\n",
        "Grocery store has one counter to sell the items. It is denoted by '1' in M/M/1.\r\n",
        "\r\n",
        "Service time (the time spent by a customer at counter for purchasing items and paying the bills) follows exponential distribution.\r\n",
        "\r\n",
        "The second 'M' of M/M/1 represents the service time\r\n",
        "\r\n",
        "M/M/1 Queue have infinite waiting room, therefore every customer will enter into the queue irrespective of congestion.\r\n",
        "\r\n",
        "Service in M/M/1 queue is given according to FCFS basis."
      ]
    },
    {
      "cell_type": "code",
      "metadata": {
        "colab": {
          "base_uri": "https://localhost:8080/"
        },
        "id": "UBpii0wgEgYk",
        "outputId": "5f081084-9690-4cb7-a2cf-e5580b5ee565"
      },
      "source": [
        "# Install Simpy version 2.3\r\n",
        "!pip install simpy==2.3"
      ],
      "execution_count": null,
      "outputs": [
        {
          "output_type": "stream",
          "text": [
            "Collecting simpy==2.3\n",
            "\u001b[?25l  Downloading https://files.pythonhosted.org/packages/ec/a3/1c1ccc5c21070c3acd45b6619a04c90614c26e8fb4450ba75ae7458ee8d7/simpy-2.3.tar.gz (1.8MB)\n",
            "\u001b[K     |████████████████████████████████| 1.8MB 5.2MB/s \n",
            "\u001b[?25hBuilding wheels for collected packages: simpy\n",
            "  Building wheel for simpy (setup.py) ... \u001b[?25l\u001b[?25hdone\n",
            "  Created wheel for simpy: filename=simpy-2.3-cp36-none-any.whl size=75233 sha256=6d55810970f6a4fe6126dc38bb0d7572ca6112a21398d302acfa46199c064468\n",
            "  Stored in directory: /root/.cache/pip/wheels/eb/3d/8e/3d693275afad69bebf507de3149d7380d339db204199d691b5\n",
            "Successfully built simpy\n",
            "Installing collected packages: simpy\n",
            "Successfully installed simpy-2.3\n"
          ],
          "name": "stdout"
        }
      ]
    },
    {
      "cell_type": "code",
      "metadata": {
        "id": "cyJwCivxCa3X"
      },
      "source": [
        "# Importing the required libraries\r\n",
        "\r\n",
        "# Importing Simpy for simulation\r\n",
        "from SimPy.Simulation import *\r\n",
        "\r\n",
        "# Importing Python random module for expovariate function to generate the random numbers\r\n",
        "# seed is used to initialize the random number stream\r\n",
        "from random import expovariate, seed"
      ],
      "execution_count": null,
      "outputs": []
    },
    {
      "cell_type": "code",
      "metadata": {
        "id": "gYFPS_JwJk4D"
      },
      "source": [
        "# Class to generate the customers\r\n",
        "\r\n",
        "# CustomerGenerator class is derived from the SimPy Process class.\r\n",
        "class CustomerGenerator(Process):\r\n",
        "    \r\n",
        "    # Process Execution Method (PEM) for the clsss\r\n",
        "    # Arguments taken by this method are: Number of customers to generate - MaxCustomers, Average inter-arrival time - AverageInterArrivalTime \r\n",
        "    # and Resource provided to each created customer - ServiceResource\r\n",
        "    def generate_customers(self, MaxCustomers, AverageInterArrivalTime, ServiceResource):\r\n",
        "\r\n",
        "        # Generate MaxCustomers      \r\n",
        "        for i in range(MaxCustomers):\r\n",
        "            \r\n",
        "            # Customers named Buyer00, Buyer01 and so on\r\n",
        "            c = Buyer(name = \"Buyer%02d\"%(i,))\r\n",
        "\r\n",
        "            # Activate the customers to current time and with the service resource available.\r\n",
        "            activate(c,c.arrives(b=ServiceResource))\r\n",
        "                    \r\n",
        "            # Generate exponential random variable using expovariate function. Argument to expovariate is rate of arrivals i.e. 1/av. inter-arrival time\r\n",
        "            # It generates pseudo-random numbers.\r\n",
        "            # Since inter-arrival time follows exponential distribution, Arrival Time follow poisson distribution\r\n",
        "            t = expovariate(1.0/AverageInterArrivalTime)\r\n",
        "\r\n",
        "            # holds for sometime (According to above generated exponentially distributed pseudo-random numbers) before generating the next customer.              \r\n",
        "            yield hold,self,t"
      ],
      "execution_count": null,
      "outputs": []
    },
    {
      "cell_type": "code",
      "metadata": {
        "id": "hqDqhWgwJm1o"
      },
      "source": [
        "# Class to define buyers' activities - Buyer comes to store, waits (if required), buys the items and leaves\r\n",
        "\r\n",
        "# Buyer class is derived from the SimPy Process class\r\n",
        "class Buyer(Process):\r\n",
        "\r\n",
        "    # Process Execution Method (PEM) for the clsss   \r\n",
        "    def arrives(self,b):\r\n",
        "\r\n",
        "        # Arrival of a new buyer at current time                                \r\n",
        "        ArrivalTime = now()\r\n",
        "        ArrivalTimeList.append(ArrivalTime)\r\n",
        "\r\n",
        "        # Print the occurance of arrival\r\n",
        "        print (\"%8.4f %s: I have reached at Grocery Store     \"%(now(),self.name))\r\n",
        "        \r\n",
        "        # Request for the service. If buyers' queue is empty, this buyer can buy items otherwise buyer will wait in queue \r\n",
        "        yield request,self,b\r\n",
        "\r\n",
        "        # Calculate the waiting time                          \r\n",
        "        WaitingTime = now() - ArrivalTime\r\n",
        "\r\n",
        "        # Print the waiting time\r\n",
        "        print (\"%8.4f %s: I have waited for %6.3f\"%(now(),self.name,WaitingTime))\r\n",
        "\r\n",
        "        # Defining service time. In M/M/1, service time follows exponential distribution.\r\n",
        "        ServiceTime = expovariate(1.0/AverageServiceTime)\r\n",
        "        \r\n",
        "        ServiceTimeList.append(ServiceTime)\r\n",
        "        # Buyer holds the counter according to his service time and purchase the items            \r\n",
        "        yield hold,self,ServiceTime\r\n",
        "\r\n",
        "        # he current customer completes service and the service counter becomes available for any remaining customers in the queue.\r\n",
        "        # After purchasing, release the counter for next available buyer in queue\r\n",
        "        yield release,self,b\r\n",
        "\r\n",
        "        # Print the store exit time                         \r\n",
        "        print (\"%8.4f %s: My Shopping is Over      \"%(now(),self.name))"
      ],
      "execution_count": null,
      "outputs": []
    },
    {
      "cell_type": "code",
      "metadata": {
        "id": "9eTXIEmGa6PA",
        "colab": {
          "base_uri": "https://localhost:8080/",
          "height": 800
        },
        "outputId": "bf969f4c-78f9-4db1-bd50-8fb14c2bedd8"
      },
      "source": [
        "# Sample Example to simulate the M/M/1 queue with above defined poisson arrival process and exponential service time\r\n",
        "\r\n",
        "MaximumBuyers = 15\r\n",
        "SimulationTime = 200.0 # minutes                                     \r\n",
        "AverageServiceTime=5.0 # minutes                      \r\n",
        "MeanArrivalInterval= 8.0   # minutes\r\n",
        "\r\n",
        "# List of Arrival Times\r\n",
        "ArrivalTimeList = []\r\n",
        "\r\n",
        "# List of service times for every buyer\r\n",
        "ServiceTimeList = []\r\n",
        "\r\n",
        "\r\n",
        "seed(1256)  \r\n",
        "\r\n",
        "# Create a counter at grocery store\r\n",
        "k = Resource(name=\"Counter\",unitName=\"SuperMarket\")       \r\n",
        "\r\n",
        "initialize()\r\n",
        "s = CustomerGenerator('CustomerGenerator')\r\n",
        "activate(s,s.generate_customers(MaxCustomers=MaximumBuyers,AverageInterArrivalTime=MeanArrivalInterval, \r\n",
        "                      ServiceResource=k),at=0.0)           \r\n",
        "simulate(until=SimulationTime)"
      ],
      "execution_count": null,
      "outputs": [
        {
          "output_type": "stream",
          "text": [
            "  0.0000 Buyer00: I have reached at Grocery Store     \n",
            "  0.0000 Buyer00: I have waited for  0.000\n",
            "  0.6007 Buyer00: My Shopping is Over      \n",
            "  6.3352 Buyer01: I have reached at Grocery Store     \n",
            "  6.3352 Buyer01: I have waited for  0.000\n",
            " 10.9730 Buyer02: I have reached at Grocery Store     \n",
            " 18.8115 Buyer01: My Shopping is Over      \n",
            " 18.8115 Buyer02: I have waited for  7.839\n",
            " 20.4302 Buyer02: My Shopping is Over      \n",
            " 21.7203 Buyer03: I have reached at Grocery Store     \n",
            " 21.7203 Buyer03: I have waited for  0.000\n",
            " 22.0517 Buyer03: My Shopping is Over      \n",
            " 25.2717 Buyer04: I have reached at Grocery Store     \n",
            " 25.2717 Buyer04: I have waited for  0.000\n",
            " 31.3568 Buyer04: My Shopping is Over      \n",
            " 33.1369 Buyer05: I have reached at Grocery Store     \n",
            " 33.1369 Buyer05: I have waited for  0.000\n",
            " 43.9626 Buyer05: My Shopping is Over      \n",
            " 50.6089 Buyer06: I have reached at Grocery Store     \n",
            " 50.6089 Buyer06: I have waited for  0.000\n",
            " 52.3421 Buyer06: My Shopping is Over      \n",
            " 64.8167 Buyer07: I have reached at Grocery Store     \n",
            " 64.8167 Buyer07: I have waited for  0.000\n",
            " 65.3277 Buyer07: My Shopping is Over      \n",
            " 65.7879 Buyer08: I have reached at Grocery Store     \n",
            " 65.7879 Buyer08: I have waited for  0.000\n",
            " 66.4003 Buyer08: My Shopping is Over      \n",
            " 74.9117 Buyer09: I have reached at Grocery Store     \n",
            " 74.9117 Buyer09: I have waited for  0.000\n",
            " 77.0460 Buyer09: My Shopping is Over      \n",
            "101.1837 Buyer10: I have reached at Grocery Store     \n",
            "101.1837 Buyer10: I have waited for  0.000\n",
            "101.3086 Buyer10: My Shopping is Over      \n",
            "103.2280 Buyer11: I have reached at Grocery Store     \n",
            "103.2280 Buyer11: I have waited for  0.000\n",
            "103.3071 Buyer12: I have reached at Grocery Store     \n",
            "109.5644 Buyer11: My Shopping is Over      \n",
            "109.5644 Buyer12: I have waited for  6.257\n",
            "110.1662 Buyer12: My Shopping is Over      \n",
            "112.9723 Buyer13: I have reached at Grocery Store     \n",
            "112.9723 Buyer13: I have waited for  0.000\n",
            "123.0877 Buyer13: My Shopping is Over      \n",
            "135.6206 Buyer14: I have reached at Grocery Store     \n",
            "135.6206 Buyer14: I have waited for  0.000\n",
            "140.0488 Buyer14: My Shopping is Over      \n"
          ],
          "name": "stdout"
        },
        {
          "output_type": "execute_result",
          "data": {
            "application/vnd.google.colaboratory.intrinsic+json": {
              "type": "string"
            },
            "text/plain": [
              "'SimPy: No more events at time 140.04882184668045'"
            ]
          },
          "metadata": {
            "tags": []
          },
          "execution_count": 8
        }
      ]
    },
    {
      "cell_type": "markdown",
      "metadata": {
        "id": "TT_x6mMvHJ2H"
      },
      "source": [
        "# Poisson Arrival Process Simulation"
      ]
    },
    {
      "cell_type": "code",
      "metadata": {
        "colab": {
          "base_uri": "https://localhost:8080/",
          "height": 312
        },
        "id": "cwXCn-fOB2Zp",
        "outputId": "70b77009-6b07-4a60-ec0e-71021994a63c"
      },
      "source": [
        "import matplotlib.pyplot as plt\r\n",
        "\r\n",
        "plt.plot(ArrivalTimeList,'b--')\r\n",
        "plt.title('Poisson Arrival Process Simulation')\r\n",
        "plt.xlabel('Customer Number')\r\n",
        "plt.ylabel('Arrival Time')\r\n"
      ],
      "execution_count": null,
      "outputs": [
        {
          "output_type": "execute_result",
          "data": {
            "text/plain": [
              "Text(0, 0.5, 'Arrival Time')"
            ]
          },
          "metadata": {
            "tags": []
          },
          "execution_count": 9
        },
        {
          "output_type": "display_data",
          "data": {
            "image/png": "[encoded data removed]",
            "text/plain": [
              "<Figure size 432x288 with 1 Axes>"
            ]
          },
          "metadata": {
            "tags": [],
            "needs_background": "light"
          }
        }
      ]
    },
    {
      "cell_type": "markdown",
      "metadata": {
        "id": "Az1G98i3oWIX"
      },
      "source": [
        "# Calculation of Probability Distributions\r\n",
        "\r\n",
        "## Terminology\r\n",
        "\r\n",
        "$X(t$) = the number of customers in the system at time t\r\n",
        "\r\n",
        "$X_n$ = the number of customers in the system just after the n-th customer departs\r\n",
        "\r\n",
        "$X^{*}_n$ = the number of customers in the system just before the n-th customer enters\r\n",
        "\r\n",
        "$\\hat{X}_n$ = the number of customers in the systems just before the n-th customer arrives\r\n",
        "\r\n",
        "$W_n$ = time spent in the system by the n-th customer\r\n"
      ]
    },
    {
      "cell_type": "markdown",
      "metadata": {
        "id": "NRZtD806OBkD"
      },
      "source": [
        "## Limiting Probabilities to be calculated\r\n",
        "\r\n",
        "$p_j = \\lim\\limits_{t \\to \\infty}P(X(t) = j)$,\r\n",
        "\r\n",
        "$\\pi_j =  \\lim\\limits_{n \\to \\infty}P(X_n = j)$,\r\n",
        "\r\n",
        "$\\pi^{*}_j = \\lim\\limits_{n \\to \\infty}P(X^{*}_n = j)$,\r\n",
        "\r\n",
        "$\\hat{\\pi}_j =  \\lim\\limits_{n \\to \\infty}P(\\hat{X}_n = j)$,\r\n",
        "\r\n",
        "$F(x) =  \\lim\\limits_{n \\to \\infty} P(W_n ≤ x)$,\r\n",
        "\r\n",
        "$L =  \\lim\\limits_{t \\to \\infty}E(X(t))$,\r\n",
        "\r\n",
        "$W =  \\lim\\limits_{n \\to \\infty}E(W_n)$."
      ]
    },
    {
      "cell_type": "markdown",
      "metadata": {
        "id": "RuXPix3yBWNQ"
      },
      "source": [
        "## Calculating $p_j$\r\n",
        "\r\n",
        "Since, $X(t)$ = the number of customers in the system at time t, ${X(t), t ≥0}$ is a birth and death process\r\n",
        "\r\n",
        "$Birth \\;parameter \\; \\lambda_i = arrival\\;rate = \\lambda;\\;\\forall i \\geq 0;$\r\n",
        "\r\n",
        "$Death \\; parameter \\; \\mu_i = Service\\;rate = \\mu;\\;\\forall i \\geq 1;$\r\n",
        "\r\n",
        "Therefore,\r\n",
        "\r\n",
        "$p_j = \\rho_j p_0, \\; j \\geq 0$\r\n",
        "\r\n",
        "$where \\; \\rho_j = \\left(\\frac{\\lambda}{\\mu}\\right)^{j} = \\rho^j $"
      ]
    },
    {
      "cell_type": "markdown",
      "metadata": {
        "id": "XVqlAd1wf98V"
      },
      "source": [
        "## Relation between $p_j$ and other limiting probabilities\r\n",
        "\r\n",
        "Since every arriving customer enters into queue in our example, $π^{*}_j = \\hat{π}_j$\r\n",
        "\r\n",
        "Since the customers enter and depart one at a time in our example, $\\pi_j = π^{*}_j$\r\n",
        "\r\n",
        "Using PASTA theorem, $\\hat{π}_j = p_j$\r\n",
        "\r\n",
        "Therefore,\r\n",
        "\r\n",
        "$p_j = \\pi_j = \\pi^{*}_j = \\hat{\\pi}_j$\r\n"
      ]
    },
    {
      "cell_type": "code",
      "metadata": {
        "colab": {
          "base_uri": "https://localhost:8080/"
        },
        "id": "IFhrYynMmxAp",
        "outputId": "d63d0896-821c-40de-86f2-ddb2fa1ea21b"
      },
      "source": [
        "# Arrival rate\r\n",
        "ArrivalRate = 1.0 / MeanArrivalInterval\r\n",
        "print(\"Arrival Rate is:\",ArrivalRate)\r\n",
        "\r\n",
        "#Service rate\r\n",
        "ServiceRate = 1.0 / AverageServiceTime\r\n",
        "print(\"Service Rate is:\",ServiceRate)\r\n",
        "\r\n",
        "Rho = ArrivalRate / ServiceRate\r\n",
        "print(\"Rho Value is:\",Rho)\r\n",
        "\r\n",
        "# RhoSum is sum of Rho values for j = 0,1,2...till infinite\r\n",
        "# It is infinite G.P\r\n",
        "RhoSum = 1.0 / (1-Rho)\r\n",
        "\r\n",
        "\r\n",
        "\r\n"
      ],
      "execution_count": null,
      "outputs": [
        {
          "output_type": "stream",
          "text": [
            "Arrival Rate is: 0.125\n",
            "Service Rate is: 0.2\n",
            "Rho Value is: 0.625\n"
          ],
          "name": "stdout"
        }
      ]
    },
    {
      "cell_type": "code",
      "metadata": {
        "colab": {
          "base_uri": "https://localhost:8080/"
        },
        "id": "gJrXH_evwsq9",
        "outputId": "e1aa1ca4-9dde-43cf-913e-69aedb9b3ee0"
      },
      "source": [
        "# Calculating P_j i.e P(X(t) = j)\r\n",
        "\r\n",
        "# List to store limiting probability P_j\r\n",
        "Prob = [0]*MaximumBuyers\r\n",
        "\r\n",
        "Prob[0] = 1.0 / RhoSum\r\n",
        "print(\"Limiting Probability of X(t) = 0 is: %8.4f\"%(Prob[0]))\r\n",
        "\r\n",
        "for i in range(1, MaximumBuyers):\r\n",
        "   Prob[i] = (Rho ** i) * Prob[0]\r\n",
        "   print(\"Limiting Probability of X(t) = %d is: %8.4f\" %(i, Prob[i]))"
      ],
      "execution_count": null,
      "outputs": [
        {
          "output_type": "stream",
          "text": [
            "Limiting Probability of X(t) = 0 is:   0.3750\n",
            "Limiting Probability of X(t) = 1 is:   0.2344\n",
            "Limiting Probability of X(t) = 2 is:   0.1465\n",
            "Limiting Probability of X(t) = 3 is:   0.0916\n",
            "Limiting Probability of X(t) = 4 is:   0.0572\n",
            "Limiting Probability of X(t) = 5 is:   0.0358\n",
            "Limiting Probability of X(t) = 6 is:   0.0224\n",
            "Limiting Probability of X(t) = 7 is:   0.0140\n",
            "Limiting Probability of X(t) = 8 is:   0.0087\n",
            "Limiting Probability of X(t) = 9 is:   0.0055\n",
            "Limiting Probability of X(t) = 10 is:   0.0034\n",
            "Limiting Probability of X(t) = 11 is:   0.0021\n",
            "Limiting Probability of X(t) = 12 is:   0.0013\n",
            "Limiting Probability of X(t) = 13 is:   0.0008\n",
            "Limiting Probability of X(t) = 14 is:   0.0005\n"
          ],
          "name": "stdout"
        }
      ]
    },
    {
      "cell_type": "code",
      "metadata": {
        "id": "QuRCbYyo-rlh"
      },
      "source": [
        "PiProb = Prob[:]\r\n",
        "PiStarProb = Prob[:]\r\n",
        "PiHatProb = Prob[:]\r\n",
        "\r\n"
      ],
      "execution_count": null,
      "outputs": []
    },
    {
      "cell_type": "code",
      "metadata": {
        "colab": {
          "base_uri": "https://localhost:8080/",
          "height": 319
        },
        "id": "rrYcWH8R2yrE",
        "outputId": "51179b27-7f53-4620-9eea-e7803fbed1ce"
      },
      "source": [
        "title = r\"Probability Distribution:  $\\lim_{t \\to \\infty}\\;P(X(t) = j)$\"\r\n",
        "plt.title(title)\r\n",
        "plt.xlabel('j Value')\r\n",
        "plt.ylabel('Probability Value')\r\n",
        "\r\n",
        "\r\n",
        "plt.plot(Prob,'b')\r\n",
        "\r\n"
      ],
      "execution_count": null,
      "outputs": [
        {
          "output_type": "execute_result",
          "data": {
            "text/plain": [
              "[<matplotlib.lines.Line2D at 0x7f69f0d314e0>]"
            ]
          },
          "metadata": {
            "tags": []
          },
          "execution_count": 13
        },
        {
          "output_type": "display_data",
          "data": {
            "image/png": "[encoded data removed]",
            "text/plain": [
              "<Figure size 432x288 with 1 Axes>"
            ]
          },
          "metadata": {
            "tags": [],
            "needs_background": "light"
          }
        }
      ]
    },
    {
      "cell_type": "code",
      "metadata": {
        "colab": {
          "base_uri": "https://localhost:8080/",
          "height": 317
        },
        "id": "JNZptOpTrzIf",
        "outputId": "240fff88-0470-46e6-b1f8-fbfe48153311"
      },
      "source": [
        "title = r\"Probability Distribution:  $\\lim_{n \\to \\infty}\\;P(X_n = j)$\"\r\n",
        "plt.title(title)\r\n",
        "plt.xlabel('j Value')\r\n",
        "plt.ylabel('Probability Value')\r\n",
        "\r\n",
        "plt.plot(PiProb,'g')\r\n"
      ],
      "execution_count": null,
      "outputs": [
        {
          "output_type": "execute_result",
          "data": {
            "text/plain": [
              "[<matplotlib.lines.Line2D at 0x7f69f07a94a8>]"
            ]
          },
          "metadata": {
            "tags": []
          },
          "execution_count": 14
        },
        {
          "output_type": "display_data",
          "data": {
            "image/png": "[encoded data removed]",
            "text/plain": [
              "<Figure size 432x288 with 1 Axes>"
            ]
          },
          "metadata": {
            "tags": [],
            "needs_background": "light"
          }
        }
      ]
    },
    {
      "cell_type": "code",
      "metadata": {
        "colab": {
          "base_uri": "https://localhost:8080/",
          "height": 317
        },
        "id": "-LOH7nmer0Kc",
        "outputId": "7cb9d60b-f5c7-4892-9ffd-e2f305a24478"
      },
      "source": [
        "title = r\"Probability Distribution:  $\\lim_{n \\to \\infty}\\;P(X^{*}_n = j)$\"\r\n",
        "plt.title(title)\r\n",
        "plt.xlabel('j Value')\r\n",
        "plt.ylabel('Probability Value')\r\n",
        "\r\n",
        "plt.plot(PiStarProb,'r')\r\n",
        "\r\n"
      ],
      "execution_count": null,
      "outputs": [
        {
          "output_type": "execute_result",
          "data": {
            "text/plain": [
              "[<matplotlib.lines.Line2D at 0x7f69f08210b8>]"
            ]
          },
          "metadata": {
            "tags": []
          },
          "execution_count": 15
        },
        {
          "output_type": "display_data",
          "data": {
            "image/png": "[encoded data removed]",
            "text/plain": [
              "<Figure size 432x288 with 1 Axes>"
            ]
          },
          "metadata": {
            "tags": [],
            "needs_background": "light"
          }
        }
      ]
    },
    {
      "cell_type": "code",
      "metadata": {
        "colab": {
          "base_uri": "https://localhost:8080/",
          "height": 319
        },
        "id": "ykoiluFyr0vO",
        "outputId": "a8059ad9-887e-4a28-afce-0ad634433629"
      },
      "source": [
        "title = r\"Probability Distribution:  $\\lim_{n \\to \\infty}\\;P(\\hat{X}_n = j)$\"\r\n",
        "plt.title(title)\r\n",
        "plt.xlabel('j Value')\r\n",
        "plt.ylabel('Probability Value')\r\n",
        "\r\n",
        "plt.plot(PiHatProb,'b')\r\n",
        "\r\n"
      ],
      "execution_count": null,
      "outputs": [
        {
          "output_type": "execute_result",
          "data": {
            "text/plain": [
              "[<matplotlib.lines.Line2D at 0x7f69e7f10710>]"
            ]
          },
          "metadata": {
            "tags": []
          },
          "execution_count": 16
        },
        {
          "output_type": "display_data",
          "data": {
            "image/png": "[encoded data removed]",
            "text/plain": [
              "<Figure size 432x288 with 1 Axes>"
            ]
          },
          "metadata": {
            "tags": [],
            "needs_background": "light"
          }
        }
      ]
    },
    {
      "cell_type": "markdown",
      "metadata": {
        "id": "RcveauG_vYX6"
      },
      "source": [
        "## Calculation of $F(x)$ and $W$\r\n",
        "\r\n",
        "$F(x) =  \\lim\\limits_{n \\to \\infty} P(W_n ≤ x)$\r\n",
        "\r\n",
        "$F(x) = 1-e^{-(\\mu-\\lambda)x} \\;, x\\geq0$\r\n",
        "\r\n",
        "Thus the steady state waiting time is an $exp(\\mu − \\lambda)$ random variable. Therefore,\r\n",
        "\r\n",
        "$W = E(waiting \\; time \\; in \\; steady \\; state) = \\frac{1}{\\mu-\\lambda}$"
      ]
    },
    {
      "cell_type": "code",
      "metadata": {
        "colab": {
          "base_uri": "https://localhost:8080/"
        },
        "id": "fanzqO7-xDad",
        "outputId": "e6247755-7f3e-458f-af1a-f5b406415508"
      },
      "source": [
        "WaitingTimeExpectation = 1.0 / (ServiceRate - ArrivalRate)\r\n",
        "print(\"Limiting Expectation of W_n is: %8.4f\" %(WaitingTimeExpectation))"
      ],
      "execution_count": null,
      "outputs": [
        {
          "output_type": "stream",
          "text": [
            "Limiting Expectation of W_n is:  13.3333\n"
          ],
          "name": "stdout"
        }
      ]
    },
    {
      "cell_type": "markdown",
      "metadata": {
        "id": "YsV0lpxntxhU"
      },
      "source": [
        "## Calculation of $L$\r\n",
        "\r\n",
        "$L =  \\lim\\limits_{t \\to \\infty}E(X(t))$,"
      ]
    },
    {
      "cell_type": "code",
      "metadata": {
        "colab": {
          "base_uri": "https://localhost:8080/"
        },
        "id": "cWBMwmdXt022",
        "outputId": "06a49fed-0681-4e44-a500-ef48c9d21817"
      },
      "source": [
        "CustomerNumbersExpectation = 0;\r\n",
        "\r\n",
        "for i in range(1, MaximumBuyers):\r\n",
        "   CustomerNumbersExpectation = CustomerNumbersExpectation + i*Prob[i]\r\n",
        "   \r\n",
        "print(\"Limiting Expectation of X(t) is: %8.4f\" %(CustomerNumbersExpectation))"
      ],
      "execution_count": null,
      "outputs": [
        {
          "output_type": "stream",
          "text": [
            "Limiting Expectation of X(t) is:   1.6522\n"
          ],
          "name": "stdout"
        }
      ]
    },
    {
      "cell_type": "markdown",
      "metadata": {
        "id": "N5HGEA_Q9xsR"
      },
      "source": [
        "# Comparison With Ideal Values\r\n",
        " Ideal limiting probability can be obtained using\r\n",
        "\r\n",
        " $p_j = \\rho^j \\left(1-\\rho \\right)$\r\n",
        "\r\n",
        " Other Probability distributions can be obtained by\r\n",
        "$\\pi_j = \\pi^{*}_j = \\hat{\\pi}_j = p_j $\r\n",
        "\r\n",
        "$L =  \\lim\\limits_{t \\to \\infty}E(X(t))$,\r\n",
        "\r\n",
        "$ L = \\frac{\\rho}{1-\\rho}$"
      ]
    },
    {
      "cell_type": "code",
      "metadata": {
        "colab": {
          "base_uri": "https://localhost:8080/"
        },
        "id": "GKuFPpk9CK06",
        "outputId": "0abc7838-ae8c-416c-9631-80674f1db95d"
      },
      "source": [
        "IdealProb = [0]*MaximumBuyers\r\n",
        "\r\n",
        "for i in range(MaximumBuyers):\r\n",
        "  IdealProb[i] = (Rho ** i) * (1-Rho)\r\n",
        "  print(\"Ideal Limiting Probability of X(t) = %d is: %8.4f\" %(i, IdealProb[i]))\r\n",
        "\r\n",
        "\r\n",
        "IdealPiProb = IdealProb[:]\r\n",
        "IdealPiStarProb = IdealProb[:]\r\n",
        "IdealPiHatProb = IdealProb[:]\r\n",
        "\r\n",
        "\r\n"
      ],
      "execution_count": null,
      "outputs": [
        {
          "output_type": "stream",
          "text": [
            "Ideal Limiting Probability of X(t) = 0 is:   0.3750\n",
            "Ideal Limiting Probability of X(t) = 1 is:   0.2344\n",
            "Ideal Limiting Probability of X(t) = 2 is:   0.1465\n",
            "Ideal Limiting Probability of X(t) = 3 is:   0.0916\n",
            "Ideal Limiting Probability of X(t) = 4 is:   0.0572\n",
            "Ideal Limiting Probability of X(t) = 5 is:   0.0358\n",
            "Ideal Limiting Probability of X(t) = 6 is:   0.0224\n",
            "Ideal Limiting Probability of X(t) = 7 is:   0.0140\n",
            "Ideal Limiting Probability of X(t) = 8 is:   0.0087\n",
            "Ideal Limiting Probability of X(t) = 9 is:   0.0055\n",
            "Ideal Limiting Probability of X(t) = 10 is:   0.0034\n",
            "Ideal Limiting Probability of X(t) = 11 is:   0.0021\n",
            "Ideal Limiting Probability of X(t) = 12 is:   0.0013\n",
            "Ideal Limiting Probability of X(t) = 13 is:   0.0008\n",
            "Ideal Limiting Probability of X(t) = 14 is:   0.0005\n"
          ],
          "name": "stdout"
        }
      ]
    },
    {
      "cell_type": "markdown",
      "metadata": {
        "id": "gXGkqZeNDP6C"
      },
      "source": [
        "# Ideal Vs Calculated Limiting Probability Plots"
      ]
    },
    {
      "cell_type": "code",
      "metadata": {
        "id": "032rzfIwFFJK",
        "colab": {
          "base_uri": "https://localhost:8080/",
          "height": 302
        },
        "outputId": "1ec08d6e-bdf1-4d09-e53b-315ad5892bc8"
      },
      "source": [
        "plt.plot(Prob,'b--',label='Calculated')\r\n",
        "plt.plot(IdealProb,'rs',label='Ideal')\r\n",
        "title = r\"Comparison of Probability Distribution:  $\\lim_{t \\to \\infty}\\;P(X(t) = j)$\"\r\n",
        "plt.title(title)\r\n",
        "plt.xlabel('j Value')\r\n",
        "plt.ylabel('Probability Value')\r\n",
        "plt.grid()\r\n",
        "plt.legend()\r\n",
        "plt.show()"
      ],
      "execution_count": null,
      "outputs": [
        {
          "output_type": "display_data",
          "data": {
            "image/png": "[encoded data removed]",
            "text/plain": [
              "<Figure size 432x288 with 1 Axes>"
            ]
          },
          "metadata": {
            "tags": [],
            "needs_background": "light"
          }
        }
      ]
    },
    {
      "cell_type": "code",
      "metadata": {
        "colab": {
          "base_uri": "https://localhost:8080/",
          "height": 300
        },
        "id": "uctYHhDS_FC8",
        "outputId": "0f0c1d3b-ab76-470c-cfb3-9eb1d9498d2c"
      },
      "source": [
        "plt.plot(PiProb,'b--',label='Calculated')\r\n",
        "plt.plot(IdealPiProb,'rs',label='Ideal')\r\n",
        "title = r\"Comparison of Probability Distribution:  $\\lim_{n \\to \\infty}\\;P(X_n = j)$\"\r\n",
        "plt.title(title)\r\n",
        "plt.xlabel('j Value')\r\n",
        "plt.ylabel('Probability Value')\r\n",
        "plt.grid()\r\n",
        "plt.legend()\r\n",
        "plt.show()\r\n"
      ],
      "execution_count": null,
      "outputs": [
        {
          "output_type": "display_data",
          "data": {
            "image/png": "[encoded data removed]",
            "text/plain": [
              "<Figure size 432x288 with 1 Axes>"
            ]
          },
          "metadata": {
            "tags": [],
            "needs_background": "light"
          }
        }
      ]
    },
    {
      "cell_type": "code",
      "metadata": {
        "colab": {
          "base_uri": "https://localhost:8080/",
          "height": 300
        },
        "id": "qOqcYXZG_Sea",
        "outputId": "e1539fcc-7d66-4db9-f76a-e7aa79b6a607"
      },
      "source": [
        "plt.plot(PiStarProb,'b--',label='Calculated')\r\n",
        "plt.plot(IdealPiStarProb,'rs',label='Ideal')\r\n",
        "title = r\"Comparison of Probability Distribution:  $\\lim_{n \\to \\infty}\\;P(X^{*}_n = j)$\"\r\n",
        "plt.title(title)\r\n",
        "plt.xlabel('j Value')\r\n",
        "plt.ylabel('Probability Value')\r\n",
        "plt.grid()\r\n",
        "plt.legend()\r\n",
        "plt.show()"
      ],
      "execution_count": null,
      "outputs": [
        {
          "output_type": "display_data",
          "data": {
            "image/png": "[encoded data removed]",
            "text/plain": [
              "<Figure size 432x288 with 1 Axes>"
            ]
          },
          "metadata": {
            "tags": [],
            "needs_background": "light"
          }
        }
      ]
    },
    {
      "cell_type": "code",
      "metadata": {
        "colab": {
          "base_uri": "https://localhost:8080/",
          "height": 302
        },
        "id": "BY7jTkZS_ag8",
        "outputId": "51d4e56c-7f4c-43d0-d741-946b63d673d8"
      },
      "source": [
        "plt.plot(PiHatProb,'b--',label='Calculated')\r\n",
        "plt.plot(IdealPiHatProb,'rs',label='Ideal')\r\n",
        "title = r\"Comparison of Probability Distribution:  $\\lim_{n \\to \\infty}\\;P(\\hat{X}_n = j)$\"\r\n",
        "plt.title(title)\r\n",
        "plt.xlabel('j Value')\r\n",
        "plt.ylabel('Probability Value')\r\n",
        "plt.grid()\r\n",
        "plt.legend()\r\n",
        "plt.show()"
      ],
      "execution_count": null,
      "outputs": [
        {
          "output_type": "display_data",
          "data": {
            "image/png": "[encoded data removed]",
            "text/plain": [
              "<Figure size 432x288 with 1 Axes>"
            ]
          },
          "metadata": {
            "tags": [],
            "needs_background": "light"
          }
        }
      ]
    },
    {
      "cell_type": "markdown",
      "metadata": {
        "id": "8CrpeJrE2YxK"
      },
      "source": [
        "# Comparison of $L$ Value"
      ]
    },
    {
      "cell_type": "code",
      "metadata": {
        "colab": {
          "base_uri": "https://localhost:8080/"
        },
        "id": "bL3bf9VyzESe",
        "outputId": "905a72c7-8717-45f7-b5b7-cf99e63d95e7"
      },
      "source": [
        "L = Rho / (1- Rho)\r\n",
        "\r\n",
        "print(\"Ideal Limiting Expectation of X(t) is: %8.4f\" %(L))\r\n",
        "print(\"Calculated Limiting Expectation of X(t) is: %8.4f\" %(CustomerNumbersExpectation))"
      ],
      "execution_count": null,
      "outputs": [
        {
          "output_type": "stream",
          "text": [
            "Ideal Limiting Expectation of X(t) is:   1.6667\n",
            "Calculated Limiting Expectation of X(t) is:   1.6522\n"
          ],
          "name": "stdout"
        }
      ]
    },
    {
      "cell_type": "markdown",
      "metadata": {
        "id": "ZprQ5vub2otB"
      },
      "source": [
        "# Verification of Little’s Law for M/M/1 Queue\r\n",
        "\r\n",
        "Little's Law : $ L = \\lambda W $\r\n",
        "\r\n",
        "We have $L = CustomerNumbersExpectation = 1.6667$\r\n",
        "\r\n",
        "$ \\lambda = ArrivalRate = 0.125 $\r\n",
        "\r\n",
        "and $ W = WaitingTimeExpectation = 13.333 $\r\n",
        "\r\n",
        "Therefore, $\\lambda W = 0.125 \\times 13.3333 = 1.6667 = L $\r\n",
        "\r\n",
        "Thus Little’s Law is verified for the\r\n",
        "M/M/1 queue under FCFS discipline\r\n",
        "\r\n"
      ]
    }
  ]
}